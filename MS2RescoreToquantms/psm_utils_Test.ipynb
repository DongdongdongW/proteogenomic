{
 "cells": [
  {
   "cell_type": "code",
   "execution_count": 16,
   "outputs": [],
   "source": [
    "from psm_utils.io.idxml import IdXMLReader, IdXMLWriter\n",
    "import pyopenms as oms"
   ],
   "metadata": {
    "collapsed": false,
    "pycharm": {
     "name": "#%%\n"
    }
   }
  },
  {
   "cell_type": "markdown",
   "source": [
    "##### idXML"
   ],
   "metadata": {
    "collapsed": false,
    "pycharm": {
     "name": "#%% md\n"
    }
   }
  },
  {
   "cell_type": "code",
   "execution_count": 17,
   "outputs": [],
   "source": [
    "feat = \"/mnt/nfs/wangd/project/quantms_res/PXD010154onetest/twofileTest/FDR1_dev/dev_res/extractpsmfeatures/feat/01524_A01_P015424_S00_N01_R1_comet_feat.idXML\"\n",
    "protein_ids = []\n",
    "peptide_ids = []\n",
    "oms.IdXMLFile().load(feat, protein_ids, peptide_ids)"
   ],
   "metadata": {
    "collapsed": false,
    "pycharm": {
     "name": "#%%\n"
    }
   }
  },
  {
   "cell_type": "code",
   "execution_count": 18,
   "outputs": [
    {
     "name": "stdout",
     "output_type": "stream",
     "text": [
      "Proteins Number : 15504\n",
      "Peptides Number : 26953\n"
     ]
    }
   ],
   "source": [
    "print(\"Proteins Number : \" + str(len(protein_ids[0].getHits())))\n",
    "print(\"Peptides Number : \" + str(len(peptide_ids)))"
   ],
   "metadata": {
    "collapsed": false,
    "pycharm": {
     "name": "#%%\n"
    }
   }
  },
  {
   "cell_type": "markdown",
   "source": [
    "##### psm_utils"
   ],
   "metadata": {
    "collapsed": false,
    "pycharm": {
     "name": "#%% md\n"
    }
   }
  },
  {
   "cell_type": "code",
   "execution_count": 19,
   "outputs": [],
   "source": [
    "reader = IdXMLReader(\"/mnt/nfs/wangd/project/quantms_res/PXD010154onetest/twofileTest/FDR1_dev/dev_res/extractpsmfeatures/feat/01524_A01_P015424_S00_N01_R1_comet_feat.idXML\")"
   ],
   "metadata": {
    "collapsed": false,
    "pycharm": {
     "name": "#%%\n"
    }
   }
  },
  {
   "cell_type": "code",
   "execution_count": 20,
   "outputs": [],
   "source": [
    "psm_list = reader.read_file()"
   ],
   "metadata": {
    "collapsed": false,
    "pycharm": {
     "name": "#%%\n"
    }
   }
  },
  {
   "cell_type": "code",
   "execution_count": 21,
   "outputs": [
    {
     "data": {
      "text/plain": "26953"
     },
     "execution_count": 21,
     "metadata": {},
     "output_type": "execute_result"
    }
   ],
   "source": [
    "len(psm_list)"
   ],
   "metadata": {
    "collapsed": false,
    "pycharm": {
     "name": "#%%\n"
    }
   }
  },
  {
   "cell_type": "code",
   "execution_count": 22,
   "outputs": [
    {
     "data": {
      "text/plain": "PSMList(\n    psm_list=[\n        PSM(\n            peptidoform=Peptidoform('SN[Deamidated]LKIAELK/2'),\n            spectrum_id='controllerType=0 controllerNumber=1 scan=5',\n            run='01524_A01_P015424_S00_N01_R1',\n            collection=None,\n            spectrum=None,\n            is_decoy=False,\n            score=999.0,\n            qvalue=None,\n            pep=None,\n            precursor_mz=508.8225700319,\n            retention_time=1.2,\n            ion_mobility=None,\n            protein_list=['sp|O43765|SGTA_HUMAN'],\n            rank=1,\n            source='idXML',\n            provenance_data={\n                'SN[Deamidated]LKIAELK/2': 'SN(Deamidated)LKIAELK'\n            },\n            metadata={\n                'idxml:score_type': 'expect',\n                'idxml:higher_score_better': 'False',\n                'idxml:significance_threshold': '0.0'\n            },\n            rescoring_features={\n                'MS:1002252': 0.22,\n                'MS:1002255': 0.0,\n                'COMET:lnExpect': 6.906754778648554,\n                'COMET:lnNumSP': 7.499976540952122,\n                'COMET:lnRankSP': 0.0,\n                ... +1\n            }\n        ),\n        PSM(\n            peptidoform=Peptidoform('SLSSNFILVK/2'),\n            spectrum_id='controllerType=0 controllerNumber=1 scan=51',\n            run='01524_A01_P015424_S00_N01_R1',\n            collection=None,\n            spectrum=None,\n            is_decoy=False,\n            score=999.0,\n            qvalue=None,\n            pep=None,\n            precursor_mz=554.3358145318999,\n            retention_time=13.9,\n            ion_mobility=None,\n            protein_list=['sp|Q92681|RSCA1_HUMAN'],\n            rank=1,\n            source='idXML',\n            provenance_data={'SLSSNFILVK/2': 'SLSSNFILVK'},\n            metadata={\n                'idxml:score_type': 'expect',\n                'idxml:higher_score_better': 'False',\n                'idxml:significance_threshold': '0.0'\n            },\n            rescoring_features={\n                'MS:1002252': 0.238,\n                'MS:1002255': 1.7,\n                'COMET:lnExpect': 6.906754778648554,\n                'COMET:lnNumSP': 7.460490305825338,\n                'COMET:lnRankSP': 0.0,\n                ... +1\n            }\n        ),\n        PSM(\n            peptidoform=Peptidoform('M[Oxidation]WGNSTFDL/2'),\n            spectrum_id='controllerType=0 controllerNumber=1 scan=80',\n            run='01524_A01_P015424_S00_N01_R1',\n            collection=None,\n            spectrum=None,\n            is_decoy=True,\n            score=999.0,\n            qvalue=None,\n            pep=None,\n            precursor_mz=543.7505485319,\n            retention_time=23.6,\n            ion_mobility=None,\n            protein_list=['DECOY_sp|Q86XE5|HOGA1_HUMAN'],\n            rank=1,\n            source='idXML',\n            provenance_data={'M[Oxidation]WGNSTFDL/2': 'M(Oxidation)WGNSTFDL'},\n            metadata={\n                'idxml:score_type': 'expect',\n                'idxml:higher_score_better': 'False',\n                'idxml:significance_threshold': '0.0'\n            },\n            rescoring_features={\n                'MS:1002252': 0.245,\n                'MS:1002255': 1.5,\n                'COMET:lnExpect': 6.906754778648554,\n                'COMET:lnNumSP': 8.024862150286411,\n                'COMET:lnRankSP': 0.693147180559945,\n                ... +1\n            }\n        ),\n        PSM(\n            peptidoform=Peptidoform('GDYMTMQM[Oxidation]SC[Carbamidomethyl]PR/2'),\n            spectrum_id='controllerType=0 controllerNumber=1 scan=141',\n            run='01524_A01_P015424_S00_N01_R1',\n            collection=None,\n            spectrum=None,\n            is_decoy=False,\n            score=999.0,\n            qvalue=None,\n            pep=None,\n            precursor_mz=746.7759390319,\n            retention_time=42.3,\n            ion_mobility=None,\n            protein_list=['sp|P35568|IRS1_HUMAN'],\n            rank=1,\n            source='idXML',\n            provenance_data={\n                'GDYMTMQM[Oxidation]SC[Carbamidomethyl]PR/2': 'GDYMTMQM(Oxidation)SC(Carbamidomethyl)PR'\n            },\n            metadata={\n                'idxml:score_type': 'expect',\n                'idxml:higher_score_better': 'False',\n                'idxml:significance_threshold': '0.0'\n            },\n            rescoring_features={\n                'MS:1002252': 0.239,\n                'MS:1002255': 1.5,\n                'COMET:lnExpect': 6.906754778648554,\n                'COMET:lnNumSP': 5.135798437050262,\n                'COMET:lnRankSP': 0.0,\n                ... +1\n            }\n        ),\n        PSM(\n            peptidoform=Peptidoform('LGAGSSIPKSR/2'),\n            spectrum_id='controllerType=0 controllerNumber=1 scan=151',\n            run='01524_A01_P015424_S00_N01_R1',\n            collection=None,\n            spectrum=None,\n            is_decoy=True,\n            score=0.22499999403953552,\n            qvalue=None,\n            pep=None,\n            precursor_mz=536.8269035319,\n            retention_time=45.2,\n            ion_mobility=None,\n            protein_list=['DECOY_sp|Q8NDH2|CC168_HUMAN'],\n            rank=1,\n            source='idXML',\n            provenance_data={'LGAGSSIPKSR/2': 'LGAGSSIPKSR'},\n            metadata={\n                'idxml:score_type': 'expect',\n                'idxml:higher_score_better': 'False',\n                'idxml:significance_threshold': '0.0'\n            },\n            rescoring_features={\n                'MS:1002252': 0.238,\n                'MS:1002255': 0.0,\n                'COMET:lnExpect': -1.491654876777717,\n                'COMET:lnNumSP': 8.245121966478605,\n                'COMET:lnRankSP': 0.0,\n                ... +1\n            }\n        ),\n        ... +26948\n    ]\n)"
     },
     "execution_count": 22,
     "metadata": {},
     "output_type": "execute_result"
    }
   ],
   "source": [
    "psm_list"
   ],
   "metadata": {
    "collapsed": false,
    "pycharm": {
     "name": "#%%\n"
    }
   }
  },
  {
   "cell_type": "code",
   "execution_count": 23,
   "outputs": [
    {
     "data": {
      "text/plain": "PSM(peptidoform=Peptidoform('SN[Deamidated]LKIAELK/2'), spectrum_id='controllerType=0 controllerNumber=1 scan=5', run='01524_A01_P015424_S00_N01_R1', collection=None, spectrum=None, is_decoy=False, score=999.0, qvalue=None, pep=None, precursor_mz=508.8225700319, retention_time=1.2, ion_mobility=None, protein_list=['sp|O43765|SGTA_HUMAN'], rank=1, source='idXML', provenance_data={'SN[Deamidated]LKIAELK/2': 'SN(Deamidated)LKIAELK'}, metadata={'idxml:score_type': 'expect', 'idxml:higher_score_better': 'False', 'idxml:significance_threshold': '0.0'}, rescoring_features={'MS:1002252': 0.22, 'MS:1002255': 0.0, 'COMET:lnExpect': 6.906754778648554, 'COMET:lnNumSP': 7.499976540952122, 'COMET:lnRankSP': 0.0, 'COMET:IonFrac': 0.0})"
     },
     "execution_count": 23,
     "metadata": {},
     "output_type": "execute_result"
    }
   ],
   "source": [
    "psm_list[0]"
   ],
   "metadata": {
    "collapsed": false,
    "pycharm": {
     "name": "#%%\n"
    }
   }
  },
  {
   "cell_type": "markdown",
   "source": [
    "##### Writer"
   ],
   "metadata": {
    "collapsed": false,
    "pycharm": {
     "name": "#%% md\n"
    }
   }
  },
  {
   "cell_type": "code",
   "execution_count": 24,
   "outputs": [],
   "source": [
    "writer = IdXMLWriter(\"/mnt/nfs/wangd/project/quantms_res/PXD010154onetest/twofileTest/FDR1_dev/dev_res/extractpsmfeatures/feat/psm_utils.idxml\", reader.protein_ids, reader.peptide_ids)\n",
    "writer.write_file(psm_list)"
   ],
   "metadata": {
    "collapsed": false,
    "pycharm": {
     "name": "#%%\n"
    }
   }
  },
  {
   "cell_type": "code",
   "execution_count": 25,
   "outputs": [],
   "source": [
    "feat = \"/mnt/nfs/wangd/project/quantms_res/PXD010154onetest/twofileTest/FDR1_dev/dev_res/extractpsmfeatures/feat/psm_utils.idxml\"\n",
    "protein_ids = []\n",
    "peptide_ids = []\n",
    "oms.IdXMLFile().load(feat, protein_ids, peptide_ids)"
   ],
   "metadata": {
    "collapsed": false,
    "pycharm": {
     "name": "#%%\n"
    }
   }
  },
  {
   "cell_type": "code",
   "execution_count": 26,
   "outputs": [
    {
     "data": {
      "text/plain": "15504"
     },
     "execution_count": 26,
     "metadata": {},
     "output_type": "execute_result"
    }
   ],
   "source": [
    "len(protein_ids[0].getHits())"
   ],
   "metadata": {
    "collapsed": false,
    "pycharm": {
     "name": "#%%\n"
    }
   }
  },
  {
   "cell_type": "code",
   "execution_count": 27,
   "outputs": [
    {
     "data": {
      "text/plain": "26953"
     },
     "execution_count": 27,
     "metadata": {},
     "output_type": "execute_result"
    }
   ],
   "source": [
    "len(peptide_ids)"
   ],
   "metadata": {
    "collapsed": false,
    "pycharm": {
     "name": "#%%\n"
    }
   }
  },
  {
   "cell_type": "code",
   "execution_count": 27,
   "outputs": [],
   "source": [],
   "metadata": {
    "collapsed": false,
    "pycharm": {
     "name": "#%%\n"
    }
   }
  }
 ],
 "metadata": {
  "kernelspec": {
   "name": "rt",
   "language": "python",
   "display_name": "rt"
  },
  "language_info": {
   "codemirror_mode": {
    "name": "ipython",
    "version": 2
   },
   "file_extension": ".py",
   "mimetype": "text/x-python",
   "name": "python",
   "nbconvert_exporter": "python",
   "pygments_lexer": "ipython2",
   "version": "2.7.6"
  }
 },
 "nbformat": 4,
 "nbformat_minor": 0
}